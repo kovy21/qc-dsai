{
 "cells": [
  {
   "cell_type": "markdown",
   "id": "28e10b94",
   "metadata": {},
   "source": [
    "# 1 Data Pre-processing"
   ]
  },
  {
   "cell_type": "code",
   "execution_count": null,
   "id": "ed4d916e-ec9c-45e2-9afc-dc7d8f96785b",
   "metadata": {},
   "outputs": [],
   "source": [
    "# Loading libraries\n",
    "import json\n",
    "import pandas as pd\n",
    "from shapely import MultiLineString, LineString\n",
    "import kagglehub\n",
    "import geopandas as gpd\n",
    "import networkx as nx\n",
    "from geopy.distance import great_circle\n",
    "import matplotlib.pyplot as plt\n",
    "import igraph as ig"
   ]
  },
  {
   "cell_type": "code",
   "execution_count": null,
   "id": "f544e8b6",
   "metadata": {},
   "outputs": [],
   "source": [
    "# Download latest version\n",
    "path = kagglehub.dataset_download(\"sndorburian/underwater-marine-data-cables\")\n",
    "data = json.load(open(\"../data/kaggle/underwatercable.json\"))\n",
    "df_undersea = pd.DataFrame(data[\"features\"])\n",
    "df_undersea"
   ]
  },
  {
   "cell_type": "code",
   "execution_count": null,
   "id": "26e9aa3f-21a3-46d4-ac74-843b73667a10",
   "metadata": {},
   "outputs": [],
   "source": [
    "name_list = []\n",
    "id_list = []\n",
    "color_list = []\n",
    "\n",
    "for i in df_undersea.index:\n",
    "    name_i = df_undersea.loc[i].properties[\"name\"]\n",
    "    name_list.append(name_i)\n",
    "    id_i = df_undersea.loc[i].properties[\"id\"]\n",
    "    id_list.append(id_i)\n",
    "    color_i = df_undersea.loc[i].properties[\"color\"]\n",
    "    color_list.append(color_i)\n",
    "\n",
    "geom_list = []\n",
    "for i in df_undersea.index:\n",
    "    geom_i = MultiLineString(pd.DataFrame(data[\"features\"]).geometry.loc[i][\"coordinates\"])\n",
    "    geom_list.append(geom_i)\n",
    "\n",
    "gdf_undersea = df_undersea.copy(deep=False)\n",
    "gdf_undersea = gpd.GeoDataFrame(gdf_undersea, geometry = geom_list)\n",
    "gdf_undersea = gdf_undersea.set_crs(4326)\n",
    "\n",
    "gdf_undersea[\"id\"] = id_list\n",
    "gdf_undersea[\"name\"] = name_list\n",
    "gdf_undersea[\"color\"] = color_list\n",
    "\n",
    "gdf_undersea"
   ]
  },
  {
   "cell_type": "code",
   "execution_count": null,
   "id": "e6809bf6-70d3-4920-9c48-286b000977a7",
   "metadata": {},
   "outputs": [],
   "source": [
    "gdf_undersea.explore()"
   ]
  },
  {
   "cell_type": "markdown",
   "id": "0d00cb06",
   "metadata": {},
   "source": [
    "# 2 Graph Network"
   ]
  },
  {
   "cell_type": "markdown",
   "id": "fe99aa4b",
   "metadata": {},
   "source": [
    "## 2.1 Graph Creation & Analysis"
   ]
  },
  {
   "cell_type": "code",
   "execution_count": null,
   "id": "10538c9f",
   "metadata": {},
   "outputs": [],
   "source": [
    "# Setting up an empty graph\n",
    "G = nx.Graph()"
   ]
  },
  {
   "cell_type": "code",
   "execution_count": null,
   "id": "a4dc213b",
   "metadata": {},
   "outputs": [],
   "source": [
    "# Reading in the GeoJSON files of the edges and nodes as GeoPandas\n",
    "gdf_nodes_json = gpd.read_file('../data/gdf_nodes.geojson')\n",
    "gdf_edges_json = gpd.read_file('../data/gdf_edges.geojson')"
   ]
  },
  {
   "cell_type": "code",
   "execution_count": null,
   "id": "105a52b8",
   "metadata": {},
   "outputs": [],
   "source": [
    "gdf_nodes_json"
   ]
  },
  {
   "cell_type": "code",
   "execution_count": null,
   "id": "c80d0d40",
   "metadata": {},
   "outputs": [],
   "source": [
    "gdf_edges_json"
   ]
  },
  {
   "cell_type": "code",
   "execution_count": null,
   "id": "87331213",
   "metadata": {},
   "outputs": [],
   "source": [
    "# Creating graph G in NetworkX from the Geo DFs\n",
    "G = nx.from_pandas_edgelist(\n",
    "    gdf_edges_json,\n",
    "    source='start_node',\n",
    "    target='end_node',\n",
    "    edge_attr='weight'\n",
    ")\n",
    "\n",
    "node_positions = {\n",
    "    row['node_id']: (row.geometry.x, row.geometry.y)\n",
    "    for index, row in gdf_nodes_json.iterrows()\n",
    "}\n",
    "nx.set_node_attributes(G, node_positions, name='pos')"
   ]
  },
  {
   "cell_type": "code",
   "execution_count": null,
   "id": "075b8662",
   "metadata": {},
   "outputs": [],
   "source": [
    "# Observing total number of edges and vertices in our graph\n",
    "print(f\"Number of Edges: {G.number_of_edges()}\\nNumber of Vertices: {G.number_of_nodes()}\")"
   ]
  },
  {
   "cell_type": "markdown",
   "id": "5837629f",
   "metadata": {},
   "source": [
    "# 2.2 Visualizing the Graph"
   ]
  },
  {
   "cell_type": "code",
   "execution_count": null,
   "id": "134c9112",
   "metadata": {},
   "outputs": [],
   "source": [
    "# Converting our NetworkX graph into an igraph so we can visualize it using Matplotlib\n",
    "ig_graph = ig.Graph.from_networkx(G)\n",
    "\n",
    "# Defining a dictionary for visual styles\n",
    "visual_style = {\n",
    "    \"vertex_size\": 10,\n",
    "    \"vertex_color\": \"orange\",\n",
    "    \"vertex_label\": None,\n",
    "    \"edge_width\": 5,\n",
    "    \"edge_color\": \"#444444\",\n",
    "    \"layout\": \"kamada_kawai\",\n",
    "}\n",
    "\n",
    "# Creating a Matplotlib figure and axes\n",
    "fig, ax = plt.subplots(figsize=(5, 5), dpi=150)\n",
    "\n",
    "# Plotting the graph using igraph, but targeting the Matplotlib axes\n",
    "ig.plot(\n",
    "    ig_graph,\n",
    "    target=ax,\n",
    "    **visual_style\n",
    ")\n",
    "\n",
    "# Customizing and show the plot using Matplotlib commands\n",
    "plt.axis('off')\n",
    "plt.show()\n"
   ]
  },
  {
   "cell_type": "markdown",
   "id": "2cdd27e0",
   "metadata": {},
   "source": [
    "## 2.3 Shortest Path with Djikstra"
   ]
  },
  {
   "cell_type": "code",
   "execution_count": null,
   "id": "5cf90890",
   "metadata": {},
   "outputs": [],
   "source": [
    "# Assigning coordinates for our cities & countries of interest\n",
    "PORTUGAL_COORDS = (38.736946, -9.142685)  # (lat, lon) for Lisbon, Portugal\n",
    "BRAZIL_COORDS = (-3.731862, -38.526669)   # (lat, lon) for Fortaleza, Brazil "
   ]
  },
  {
   "cell_type": "code",
   "execution_count": null,
   "id": "9a8821d4",
   "metadata": {},
   "outputs": [],
   "source": [
    "# Defining the function to find closest cable node to our cities of interest\n",
    "def find_closest_node(graph, target_coords):\n",
    "\n",
    "    target_lat, target_lon = target_coords\n",
    "    closest_node_id = None\n",
    "    min_dist = float('inf')\n",
    "\n",
    "    # We iterate through all nodes and their data (attributes)\n",
    "    for node_id, attributes in graph.nodes(data=True):\n",
    "        node_lon, node_lat = attributes['pos']\n",
    "        \n",
    "        dist = great_circle((target_lat, target_lon), (node_lat, node_lon)).kilometers\n",
    "        \n",
    "        if dist < min_dist:\n",
    "            min_dist = dist\n",
    "            closest_node_id = node_id\n",
    "            \n",
    "    print(f\"Found closest node for target {target_coords}: '{closest_node_id}' (Distance: {min_dist:.2f} km)\")\n",
    "    return closest_node_id"
   ]
  },
  {
   "cell_type": "code",
   "execution_count": null,
   "id": "49abedf9",
   "metadata": {},
   "outputs": [],
   "source": [
    "# Defining the function for the Dijkstra algorithm\n",
    "def dijkstra_sp(graph, source, target):\n",
    "    \n",
    "    # Calculating the shortest path using Djikstra algorithm\n",
    "    path_length = nx.dijkstra_path_length(\n",
    "        graph, source=source, target=target, weight='weight')\n",
    "\n",
    "    # Get the actual sequence of nodes in the path\n",
    "    path_nodes = nx.dijkstra_path(\n",
    "        graph, source=source, target=target, weight='weight')\n",
    "\n",
    "    print(f\"Total distance: {path_length:,.2f} km\")\n",
    "    print(f\"Path involves {len(path_nodes)} nodes.\")\n",
    "    return path_nodes"
   ]
  },
  {
   "cell_type": "code",
   "execution_count": null,
   "id": "07a93de8",
   "metadata": {},
   "outputs": [],
   "source": [
    "# Identifying start (Portugal) and end (Brazil) nodes in the graph\n",
    "start_node = find_closest_node(G, PORTUGAL_COORDS)\n",
    "end_node = find_closest_node(G, BRAZIL_COORDS)"
   ]
  },
  {
   "cell_type": "code",
   "execution_count": null,
   "id": "d414d34b",
   "metadata": {},
   "outputs": [],
   "source": [
    "shortest_path_nodes = dijkstra_sp(G, start_node, end_node)\n",
    "shortest_path_nodes"
   ]
  },
  {
   "cell_type": "code",
   "execution_count": null,
   "id": "e29d1f77",
   "metadata": {},
   "outputs": [],
   "source": [
    "# Matching shortest path nodes to the additional data in the initial nodes DF\n",
    "path_nodes_gdf = gdf_nodes_json.set_index('node_id').loc[shortest_path_nodes]\n",
    "\n",
    "# Creating the path line\n",
    "path_line = LineString(path_nodes_gdf.geometry)\n",
    "path_line_gdf = gpd.GeoDataFrame(geometry=[path_line], crs=\"EPSG:4326\")\n",
    "m = path_line_gdf.explore(\n",
    "    color=\"blue\",\n",
    "    style_kwds={'weight': 3},\n",
    "    name=\"Shortest Path Line\"\n",
    ")\n",
    "\n",
    "# Representing the individual path nodes\n",
    "path_nodes_gdf.explore(\n",
    "    m=m,\n",
    "    marker_type='circle_marker',\n",
    "    marker_kwds={'radius': 4, 'fill': True, 'color': 'green'},\n",
    "    tooltip=['node_id', 'cable_id'],\n",
    "    name=\"Path Nodes\"\n",
    ")"
   ]
  },
  {
   "cell_type": "markdown",
   "id": "6c137164",
   "metadata": {},
   "source": [
    "## 2.4 Second Shortest Path"
   ]
  },
  {
   "cell_type": "code",
   "execution_count": null,
   "id": "a50f38a2",
   "metadata": {},
   "outputs": [],
   "source": [
    "# Now, assuming the scenario that the shortest path undersea cable is destroyed, \n",
    "# what is the next shortest path / route from Portugal to Brazil?\n",
    "G_copy = G.copy()\n",
    "G_copy.remove_nodes_from(shortest_path_nodes)\n",
    "G_copy.number_of_nodes()"
   ]
  },
  {
   "cell_type": "code",
   "execution_count": null,
   "id": "ee93586d",
   "metadata": {},
   "outputs": [],
   "source": [
    "start_node = find_closest_node(G_copy, PORTUGAL_COORDS)\n",
    "end_node = find_closest_node(G_copy, BRAZIL_COORDS)"
   ]
  },
  {
   "cell_type": "code",
   "execution_count": null,
   "id": "56f0759d",
   "metadata": {},
   "outputs": [],
   "source": [
    "shortest_path_nodes = dijkstra_sp(G_copy, start_node, end_node)\n",
    "shortest_path_nodes"
   ]
  },
  {
   "cell_type": "code",
   "execution_count": null,
   "id": "aec8e112",
   "metadata": {},
   "outputs": [],
   "source": [
    "# Matching shortest path nodes to the additional data in the initial nodes DF\n",
    "path_nodes_gdf = gdf_nodes_json.set_index('node_id').loc[shortest_path_nodes]\n",
    "\n",
    "# Creating the path line\n",
    "path_line = LineString(path_nodes_gdf.geometry)\n",
    "path_line_gdf = gpd.GeoDataFrame(geometry=[path_line], crs=\"EPSG:4326\")\n",
    "m = path_line_gdf.explore(\n",
    "    color=\"blue\",\n",
    "    style_kwds={'weight': 3},\n",
    "    name=\"Shortest Path Line\"\n",
    ")\n",
    "\n",
    "# Representing the individual path nodes\n",
    "path_nodes_gdf.explore(\n",
    "    m=m,\n",
    "    marker_type='circle_marker',\n",
    "    marker_kwds={'radius': 4, 'fill': True, 'color': 'green'},\n",
    "    tooltip=['node_id', 'cable_id'],\n",
    "    name=\"Path Nodes\"\n",
    ")"
   ]
  },
  {
   "cell_type": "markdown",
   "id": "a9ba8b2f",
   "metadata": {},
   "source": [
    "# 3 K-Shortest Paths"
   ]
  },
  {
   "cell_type": "code",
   "execution_count": null,
   "id": "59429056",
   "metadata": {},
   "outputs": [],
   "source": [
    "# Assigning coordinates for our cities & countries of interest\n",
    "PORTUGAL_COORDS = (38.736946, -9.142685)  # (lat, lon) for Lisbon, Portugal\n",
    "BRAZIL_COORDS = (-3.731862, -38.526669)   # (lat, lon) for Fortaleza, Brazil "
   ]
  },
  {
   "cell_type": "code",
   "execution_count": null,
   "id": "0ae5a291",
   "metadata": {},
   "outputs": [],
   "source": [
    "start_node = find_closest_node(G_copy, PORTUGAL_COORDS)\n",
    "end_node = find_closest_node(G_copy, BRAZIL_COORDS)"
   ]
  },
  {
   "cell_type": "code",
   "execution_count": null,
   "id": "361afd9a",
   "metadata": {},
   "outputs": [],
   "source": [
    "def k_shortest_paths(graph, source, target, k):\n",
    "\n",
    "    # Get the generator for the k-shortest simple paths\n",
    "    paths_generator = nx.shortest_simple_paths(graph, source=source, target=target, weight='weight')\n",
    "\n",
    "    # Loop through the generator using a counter to get the first k paths\n",
    "    path_count = 0\n",
    "    \n",
    "    final_paths = []\n",
    "    for path in paths_generator:\n",
    "        # First, check if we have already found the number of paths we want\n",
    "        if path_count >= k:\n",
    "            break\n",
    "\n",
    "        # The path is valid, so we process it\n",
    "        path_length = nx.path_weight(graph, path, weight='weight')\n",
    "        \n",
    "        # We use our own counter for the path number\n",
    "        print(f\"Path #{path_count + 1}:  (Nodes: {len(path)})  Length: {path_length:,.2f} km\")\n",
    "\n",
    "        # Finally, increment our counter\n",
    "        path_count += 1\n",
    "\n",
    "        final_paths.append(path)\n",
    "        \n",
    "    return final_paths\n"
   ]
  },
  {
   "cell_type": "code",
   "execution_count": null,
   "id": "dcc63c0c",
   "metadata": {},
   "outputs": [],
   "source": [
    "k_shortest_path_nodes = k_shortest_paths(k=5, graph=G, source=start_node, target=end_node)"
   ]
  },
  {
   "cell_type": "code",
   "execution_count": null,
   "id": "d9bc6806",
   "metadata": {},
   "outputs": [],
   "source": [
    "# Matching shortest path nodes to the additional data in the initial nodes DF\n",
    "path_nodes_gdf = gdf_nodes_json.set_index('node_id').loc[k_shortest_path_nodes[1]]\n",
    "\n",
    "# Creating the path line\n",
    "path_line = LineString(path_nodes_gdf.geometry)\n",
    "path_line_gdf = gpd.GeoDataFrame(geometry=[path_line], crs=\"EPSG:4326\")\n",
    "m = path_line_gdf.explore(\n",
    "    color=\"blue\",\n",
    "    style_kwds={'weight': 3},\n",
    "    name=\"Shortest Path Line\"\n",
    ")\n",
    "\n",
    "# Representing the individual path nodes\n",
    "path_nodes_gdf.explore(\n",
    "    m=m,\n",
    "    marker_type='circle_marker',\n",
    "    marker_kwds={'radius': 4, 'fill': True, 'color': 'green'},\n",
    "    tooltip=['node_id', 'cable_id'],\n",
    "    name=\"Path Nodes\"\n",
    ")"
   ]
  },
  {
   "cell_type": "code",
   "execution_count": null,
   "id": "ddd60ee2",
   "metadata": {},
   "outputs": [],
   "source": [
    "gdf_nodes_json[gdf_nodes_json[\"cable_id\"] == \"ellalink\"].node_id"
   ]
  },
  {
   "cell_type": "markdown",
   "id": "9168217c",
   "metadata": {},
   "source": [
    "# 4 Combining the Two"
   ]
  },
  {
   "cell_type": "code",
   "execution_count": null,
   "id": "6d0a5146",
   "metadata": {},
   "outputs": [],
   "source": [
    "# Assigning coordinates for our cities & countries of interest\n",
    "PORTUGAL_COORDS = (38.736946, -9.142685)  # (lat, lon) for Lisbon, Portugal\n",
    "BRAZIL_COORDS = (-3.731862, -38.526669)   # (lat, lon) for Fortaleza, Brazil "
   ]
  },
  {
   "cell_type": "code",
   "execution_count": null,
   "id": "4ca39e69",
   "metadata": {},
   "outputs": [],
   "source": [
    "start_node = find_closest_node(G_copy, PORTUGAL_COORDS)\n",
    "end_node = find_closest_node(G_copy, BRAZIL_COORDS)"
   ]
  },
  {
   "cell_type": "code",
   "execution_count": null,
   "id": "6495f532",
   "metadata": {},
   "outputs": [],
   "source": [
    "# Defining the function to find closest cable node to our cities of interest\n",
    "def find_closest_node(graph, target_coords):\n",
    "\n",
    "    target_lat, target_lon = target_coords\n",
    "    closest_node_id = None\n",
    "    min_dist = float('inf')\n",
    "\n",
    "    # We iterate through all nodes and their data (attributes)\n",
    "    for node_id, attributes in graph.nodes(data=True):\n",
    "        node_lon, node_lat = attributes['pos']\n",
    "        \n",
    "        dist = great_circle((target_lat, target_lon), (node_lat, node_lon)).kilometers\n",
    "        \n",
    "        if dist < min_dist:\n",
    "            min_dist = dist\n",
    "            closest_node_id = node_id\n",
    "            \n",
    "    print(f\"Found closest node for target {target_coords}: '{closest_node_id}' (Distance: {min_dist:.2f} km)\")\n",
    "    return closest_node_id"
   ]
  },
  {
   "cell_type": "code",
   "execution_count": null,
   "id": "713aa80f",
   "metadata": {},
   "outputs": [],
   "source": [
    "def k_shortest_paths(graph, source, target, k):\n",
    "\n",
    "    # Get the generator for the k-shortest simple paths\n",
    "    paths_generator = nx.shortest_simple_paths(graph, source=source, target=target, weight='weight')\n",
    "\n",
    "    # Loop through the generator using a counter to get the first k paths\n",
    "    path_count = 0\n",
    "    \n",
    "    final_paths = []\n",
    "    for path in paths_generator:\n",
    "        # First, check if we have already found the number of paths we want\n",
    "        if path_count >= k:\n",
    "            break\n",
    "\n",
    "        # The path is valid, so we process it\n",
    "        path_length = nx.path_weight(graph, path, weight='weight')\n",
    "        \n",
    "        # We use our own counter for the path number\n",
    "        print(f\"Path #{path_count + 1}:  (Nodes: {len(path)})  Length: {path_length:,.2f} km\")\n",
    "\n",
    "        # Finally, increment our counter\n",
    "        path_count += 1\n",
    "\n",
    "        final_paths.append(path)\n",
    "        \n",
    "    return final_paths\n"
   ]
  },
  {
   "cell_type": "code",
   "execution_count": null,
   "id": "4b17ec8b",
   "metadata": {},
   "outputs": [],
   "source": [
    "def shortest_paths(graph, source, target, algo='dijkstra', k=1, removal_line=None):\n",
    "\n",
    "    working_graph = graph.copy()\n",
    "\n",
    "    if removal_line:\n",
    "        nodes_to_remove = gdf_nodes_json[gdf_nodes_json[\"cable_id\"] == removal_line]['node_id'].tolist()\n",
    "        print(f\"Removed {len(nodes_to_remove)} nodes. The network is now damaged.\")\n",
    "\n",
    "        if nodes_to_remove:\n",
    "            working_graph.remove_nodes_from(nodes_to_remove)\n",
    "\n",
    "    if algo == 'dijkstra':\n",
    "        return dijkstra_sp(working_graph, source, target)\n",
    "        \n",
    "    elif algo == 'yen':\n",
    "        return k_shortest_paths(working_graph, source, target, k)"
   ]
  },
  {
   "cell_type": "code",
   "execution_count": null,
   "id": "760895cf",
   "metadata": {},
   "outputs": [],
   "source": [
    "# Example 1: Standard Dijkstra (removal_line is ignored)\n",
    "print(\"--- RUNNING EXAMPLE 1 ---\")\n",
    "path1 = shortest_paths(G, start_node, end_node)"
   ]
  },
  {
   "cell_type": "code",
   "execution_count": null,
   "id": "0857d591",
   "metadata": {},
   "outputs": [],
   "source": [
    "# Example 2: Dijkstra AFTER removing the \"ellalink\" cable\n",
    "print(\"\\n--- RUNNING EXAMPLE 2 ---\")\n",
    "path2 = shortest_paths(G, start_node, end_node, removal_line=\"ellalink\")"
   ]
  },
  {
   "cell_type": "code",
   "execution_count": null,
   "id": "5f7b5c47",
   "metadata": {},
   "outputs": [],
   "source": [
    "# Example 3: Top 3 paths on the full network\n",
    "print(\"\\n--- RUNNING EXAMPLE 3 ---\")\n",
    "path3 = shortest_paths(G, start_node, end_node, algo='yen', k=3)"
   ]
  },
  {
   "cell_type": "code",
   "execution_count": null,
   "id": "a9fcc10e",
   "metadata": {},
   "outputs": [],
   "source": [
    "# Example 4: Top 3 paths AFTER removing the \"ellalink\" cable\n",
    "print(\"\\n--- RUNNING EXAMPLE 4 ---\")\n",
    "path4 = shortest_paths(G, start_node, end_node, algo='yen', k=3, removal_line=\"ellalink\")"
   ]
  },
  {
   "cell_type": "code",
   "execution_count": null,
   "id": "84ff2ce3",
   "metadata": {},
   "outputs": [],
   "source": [
    "# Matching shortest path nodes to the additional data in the initial nodes DF\n",
    "path_nodes_gdf = gdf_nodes_json.set_index('node_id').loc[path2]\n",
    "\n",
    "# Creating the path line\n",
    "path_line = LineString(path_nodes_gdf.geometry)\n",
    "path_line_gdf = gpd.GeoDataFrame(geometry=[path_line], crs=\"EPSG:4326\")\n",
    "m = path_line_gdf.explore(\n",
    "    color=\"blue\",\n",
    "    style_kwds={'weight': 3},\n",
    "    name=\"Shortest Path Line\"\n",
    ")\n",
    "\n",
    "# Representing the individual path nodes\n",
    "path_nodes_gdf.explore(\n",
    "    m=m,\n",
    "    marker_type='circle_marker',\n",
    "    marker_kwds={'radius': 4, 'fill': True, 'color': 'green'},\n",
    "    tooltip=['node_id', 'cable_id'],\n",
    "    name=\"Path Nodes\"\n",
    ")"
   ]
  }
 ],
 "metadata": {
  "kernelspec": {
   "display_name": "dsai_wu",
   "language": "python",
   "name": "python3"
  },
  "language_info": {
   "codemirror_mode": {
    "name": "ipython",
    "version": 3
   },
   "file_extension": ".py",
   "mimetype": "text/x-python",
   "name": "python",
   "nbconvert_exporter": "python",
   "pygments_lexer": "ipython3",
   "version": "3.12.7"
  }
 },
 "nbformat": 4,
 "nbformat_minor": 5
}
