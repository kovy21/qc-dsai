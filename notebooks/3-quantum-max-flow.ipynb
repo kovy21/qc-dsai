{
 "cells": [
  {
   "cell_type": "markdown",
   "id": "12baa577",
   "metadata": {},
   "source": [
    "# Quantum Max Flow\n",
    "\n",
    "Having experimented with the max flow algorithm in Notebook 1 using Google's `ortools` library, we will now attempt to apply this algorithm to the quantum world.\n",
    "\n",
    "For this purpose, we will use DWave."
   ]
  },
  {
   "cell_type": "code",
   "execution_count": 4,
   "id": "97839e69",
   "metadata": {},
   "outputs": [],
   "source": [
    "# Load Data\n",
    "import geopandas as gpd\n",
    "\n",
    "gdf_edges = gpd.read_file(\"../data/gdf_edges_bi.geojson\") # Read bi-directional edges\n",
    "gdf_nodes = gpd.read_file(\"../data/gdf_nodes.geojson\") # Read nodes"
   ]
  },
  {
   "cell_type": "code",
   "execution_count": null,
   "id": "f08a887e",
   "metadata": {},
   "outputs": [
    {
     "ename": "ValueError",
     "evalue": "API token not defined",
     "output_type": "error",
     "traceback": [
      "\u001b[0;31m---------------------------------------------------------------------------\u001b[0m",
      "\u001b[0;31mValueError\u001b[0m                                Traceback (most recent call last)",
      "Cell \u001b[0;32mIn[10], line 6\u001b[0m\n\u001b[1;32m      3\u001b[0m \u001b[38;5;28;01mimport\u001b[39;00m\u001b[38;5;250m \u001b[39m\u001b[38;5;21;01mdwave\u001b[39;00m\u001b[38;5;21;01m.\u001b[39;00m\u001b[38;5;21;01msystem\u001b[39;00m\n\u001b[1;32m      5\u001b[0m bqm \u001b[38;5;241m=\u001b[39m dimod\u001b[38;5;241m.\u001b[39mgenerators\u001b[38;5;241m.\u001b[39mran_r(\u001b[38;5;241m1\u001b[39m, \u001b[38;5;241m20\u001b[39m)\n\u001b[0;32m----> 6\u001b[0m sampler \u001b[38;5;241m=\u001b[39m dwave\u001b[38;5;241m.\u001b[39msystem\u001b[38;5;241m.\u001b[39mEmbeddingComposite(\u001b[43mdwave\u001b[49m\u001b[38;5;241;43m.\u001b[39;49m\u001b[43msystem\u001b[49m\u001b[38;5;241;43m.\u001b[39;49m\u001b[43mDWaveSampler\u001b[49m\u001b[43m(\u001b[49m\u001b[43m)\u001b[49m)\n\u001b[1;32m      7\u001b[0m sampleset \u001b[38;5;241m=\u001b[39m sampler\u001b[38;5;241m.\u001b[39msample(bqm, num_reads\u001b[38;5;241m=\u001b[39m\u001b[38;5;241m100\u001b[39m)\n\u001b[1;32m      8\u001b[0m dwave\u001b[38;5;241m.\u001b[39minspector\u001b[38;5;241m.\u001b[39mshow(sampleset)\n",
      "File \u001b[0;32m~/miniconda3/lib/python3.12/site-packages/dwave/system/samplers/dwave_sampler.py:195\u001b[0m, in \u001b[0;36mDWaveSampler.__init__\u001b[0;34m(self, failover, retry_interval, **config)\u001b[0m\n\u001b[1;32m    192\u001b[0m \u001b[38;5;28mself\u001b[39m\u001b[38;5;241m.\u001b[39mretry_interval \u001b[38;5;241m=\u001b[39m retry_interval\n\u001b[1;32m    193\u001b[0m \u001b[38;5;28mself\u001b[39m\u001b[38;5;241m.\u001b[39m_solver_penalty \u001b[38;5;241m=\u001b[39m defaultdict(\u001b[38;5;28mint\u001b[39m)\n\u001b[0;32m--> 195\u001b[0m \u001b[38;5;28mself\u001b[39m\u001b[38;5;241m.\u001b[39mclient \u001b[38;5;241m=\u001b[39m \u001b[43mClient\u001b[49m\u001b[38;5;241;43m.\u001b[39;49m\u001b[43mfrom_config\u001b[49m\u001b[43m(\u001b[49m\u001b[38;5;241;43m*\u001b[39;49m\u001b[38;5;241;43m*\u001b[39;49m\u001b[43mconfig\u001b[49m\u001b[43m)\u001b[49m\n\u001b[1;32m    196\u001b[0m \u001b[38;5;28mself\u001b[39m\u001b[38;5;241m.\u001b[39msolver \u001b[38;5;241m=\u001b[39m \u001b[38;5;28mself\u001b[39m\u001b[38;5;241m.\u001b[39m_get_solver(penalty\u001b[38;5;241m=\u001b[39m\u001b[38;5;28mself\u001b[39m\u001b[38;5;241m.\u001b[39m_solver_penalty)\n",
      "File \u001b[0;32m~/miniconda3/lib/python3.12/site-packages/dwave/cloud/client/base.py:447\u001b[0m, in \u001b[0;36mClient.from_config\u001b[0;34m(cls, config_file, profile, client, **kwargs)\u001b[0m\n\u001b[1;32m    444\u001b[0m _client \u001b[38;5;241m=\u001b[39m config\u001b[38;5;241m.\u001b[39mpop(\u001b[38;5;124m'\u001b[39m\u001b[38;5;124mclient\u001b[39m\u001b[38;5;124m'\u001b[39m, \u001b[38;5;28;01mNone\u001b[39;00m) \u001b[38;5;129;01mor\u001b[39;00m \u001b[38;5;124m'\u001b[39m\u001b[38;5;124mbase\u001b[39m\u001b[38;5;124m'\u001b[39m\n\u001b[1;32m    446\u001b[0m logger\u001b[38;5;241m.\u001b[39mdebug(\u001b[38;5;124m\"\u001b[39m\u001b[38;5;124mCreating \u001b[39m\u001b[38;5;132;01m%s\u001b[39;00m\u001b[38;5;124m.Client() with: \u001b[39m\u001b[38;5;132;01m%r\u001b[39;00m\u001b[38;5;124m\"\u001b[39m, _client, config)\n\u001b[0;32m--> 447\u001b[0m \u001b[38;5;28;01mreturn\u001b[39;00m \u001b[43m_clients\u001b[49m\u001b[43m[\u001b[49m\u001b[43m_client\u001b[49m\u001b[43m]\u001b[49m\u001b[43m(\u001b[49m\u001b[38;5;241;43m*\u001b[39;49m\u001b[38;5;241;43m*\u001b[39;49m\u001b[43mconfig\u001b[49m\u001b[43m)\u001b[49m\n",
      "File \u001b[0;32m~/miniconda3/lib/python3.12/site-packages/dwave/cloud/events.py:109\u001b[0m, in \u001b[0;36mdispatches_events.__call__.<locals>.wrapped\u001b[0;34m(*pargs, **kwargs)\u001b[0m\n\u001b[1;32m    104\u001b[0m \u001b[38;5;129m@wraps\u001b[39m(fn)\n\u001b[1;32m    105\u001b[0m \u001b[38;5;28;01mdef\u001b[39;00m\u001b[38;5;250m \u001b[39m\u001b[38;5;21mwrapped\u001b[39m(\u001b[38;5;241m*\u001b[39mpargs, \u001b[38;5;241m*\u001b[39m\u001b[38;5;241m*\u001b[39mkwargs):\n\u001b[1;32m    106\u001b[0m     \u001b[38;5;28;01mif\u001b[39;00m \u001b[38;5;129;01mnot\u001b[39;00m (has_handler(\u001b[38;5;28mself\u001b[39m\u001b[38;5;241m.\u001b[39mbefore_eventname) \u001b[38;5;129;01mor\u001b[39;00m\n\u001b[1;32m    107\u001b[0m             has_handler(\u001b[38;5;28mself\u001b[39m\u001b[38;5;241m.\u001b[39mafter_eventname)):\n\u001b[1;32m    108\u001b[0m         \u001b[38;5;66;03m# skip dispatch altogether\u001b[39;00m\n\u001b[0;32m--> 109\u001b[0m         \u001b[38;5;28;01mreturn\u001b[39;00m \u001b[43mfn\u001b[49m\u001b[43m(\u001b[49m\u001b[38;5;241;43m*\u001b[39;49m\u001b[43mpargs\u001b[49m\u001b[43m,\u001b[49m\u001b[43m \u001b[49m\u001b[38;5;241;43m*\u001b[39;49m\u001b[38;5;241;43m*\u001b[39;49m\u001b[43mkwargs\u001b[49m\u001b[43m)\u001b[49m\n\u001b[1;32m    111\u001b[0m     sig \u001b[38;5;241m=\u001b[39m inspect\u001b[38;5;241m.\u001b[39msignature(fn)\n\u001b[1;32m    112\u001b[0m     bound \u001b[38;5;241m=\u001b[39m sig\u001b[38;5;241m.\u001b[39mbind(\u001b[38;5;241m*\u001b[39mpargs, \u001b[38;5;241m*\u001b[39m\u001b[38;5;241m*\u001b[39mkwargs)\n",
      "File \u001b[0;32m~/miniconda3/lib/python3.12/site-packages/dwave/cloud/client/base.py:481\u001b[0m, in \u001b[0;36mClient.__init__\u001b[0;34m(self, **kwargs)\u001b[0m\n\u001b[1;32m    478\u001b[0m     \u001b[38;5;28;01mraise\u001b[39;00m \u001b[38;5;167;01mValueError\u001b[39;00m(\u001b[38;5;124m\"\u001b[39m\u001b[38;5;124mAPI endpoint not defined\u001b[39m\u001b[38;5;124m\"\u001b[39m)\n\u001b[1;32m    480\u001b[0m \u001b[38;5;28;01mif\u001b[39;00m \u001b[38;5;129;01mnot\u001b[39;00m \u001b[38;5;28mself\u001b[39m\u001b[38;5;241m.\u001b[39mconfig\u001b[38;5;241m.\u001b[39mtoken:\n\u001b[0;32m--> 481\u001b[0m     \u001b[38;5;28;01mraise\u001b[39;00m \u001b[38;5;167;01mValueError\u001b[39;00m(\u001b[38;5;124m\"\u001b[39m\u001b[38;5;124mAPI token not defined\u001b[39m\u001b[38;5;124m\"\u001b[39m)\n\u001b[1;32m    483\u001b[0m \u001b[38;5;66;03m# Build the problem submission queue, start its workers\u001b[39;00m\n\u001b[1;32m    484\u001b[0m \u001b[38;5;28mself\u001b[39m\u001b[38;5;241m.\u001b[39m_submission_queue \u001b[38;5;241m=\u001b[39m queue\u001b[38;5;241m.\u001b[39mQueue()\n",
      "\u001b[0;31mValueError\u001b[0m: API token not defined"
     ]
    }
   ],
   "source": [
    "import dimod\n",
    "import dwave.inspector\n",
    "import dwave.system\n",
    "\n",
    "bqm = dimod.generators.ran_r(1, 20)\n",
    "sampler = dwave.system.EmbeddingComposite(dwave.system.DWaveSampler()) # Lack of tokens hahah\n",
    "sampleset = sampler.sample(bqm, num_reads=100)\n",
    "dwave.inspector.show(sampleset)"
   ]
  }
 ],
 "metadata": {
  "kernelspec": {
   "display_name": "base",
   "language": "python",
   "name": "python3"
  },
  "language_info": {
   "codemirror_mode": {
    "name": "ipython",
    "version": 3
   },
   "file_extension": ".py",
   "mimetype": "text/x-python",
   "name": "python",
   "nbconvert_exporter": "python",
   "pygments_lexer": "ipython3",
   "version": "3.12.2"
  }
 },
 "nbformat": 4,
 "nbformat_minor": 5
}
