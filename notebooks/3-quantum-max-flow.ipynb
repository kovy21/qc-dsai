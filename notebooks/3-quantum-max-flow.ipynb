{
 "cells": [
  {
   "cell_type": "markdown",
   "id": "12baa577",
   "metadata": {},
   "source": [
    "# Quantum Max Flow\n",
    "\n",
    "Having experimented with the max flow algorithm in Notebook 1 using Google's `ortools` library, we will now attempt to apply this algorithm to the quantum world.\n",
    "\n",
    "For this purpose, we will use DWave."
   ]
  },
  {
   "cell_type": "code",
   "execution_count": 4,
   "id": "97839e69",
   "metadata": {},
   "outputs": [],
   "source": [
    "# Load Data\n",
    "import geopandas as gpd\n",
    "\n",
    "gdf_edges = gpd.read_file(\"../data/gdf_edges_bi.geojson\") # Read bi-directional edges\n",
    "gdf_nodes = gpd.read_file(\"../data/gdf_nodes.geojson\") # Read nodes"
   ]
  },
  {
   "cell_type": "code",
   "execution_count": 11,
   "id": "f08a887e",
   "metadata": {},
   "outputs": [
    {
     "name": "stdout",
     "output_type": "stream",
     "text": [
      "   x  y energy num_oc.\n",
      "1  1  0   -1.0       1\n",
      "3  0  1   -1.0       1\n",
      "0  0  0    0.0       1\n",
      "2  1  1    0.0       1\n",
      "['BINARY', 4 rows, 4 samples, 2 variables]\n"
     ]
    }
   ],
   "source": [
    "from dimod import ExactSolver, BinaryQuadraticModel\n",
    "\n",
    "# Create a simple BQM (Binary Quadratic Model)\n",
    "bqm = BinaryQuadraticModel({'x': -1, 'y': -1}, {('x', 'y'): 2}, 0.0, 'BINARY')\n",
    "\n",
    "# Use local classical solver\n",
    "sampler = ExactSolver()\n",
    "sampleset = sampler.sample(bqm)\n",
    "\n",
    "print(sampleset)"
   ]
  }
 ],
 "metadata": {
  "kernelspec": {
   "display_name": "base",
   "language": "python",
   "name": "python3"
  },
  "language_info": {
   "codemirror_mode": {
    "name": "ipython",
    "version": 3
   },
   "file_extension": ".py",
   "mimetype": "text/x-python",
   "name": "python",
   "nbconvert_exporter": "python",
   "pygments_lexer": "ipython3",
   "version": "3.12.2"
  }
 },
 "nbformat": 4,
 "nbformat_minor": 5
}
