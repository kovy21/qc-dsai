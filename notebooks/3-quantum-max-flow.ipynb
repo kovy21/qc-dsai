{
 "cells": [
  {
   "cell_type": "markdown",
   "id": "12baa577",
   "metadata": {},
   "source": [
    "# Quantum Max Flow\n",
    "\n",
    "Having experimented with the max flow algorithm in Notebook 1 using Google's `ortools` library, we will now attempt to apply this algorithm to the quantum world.\n",
    "\n",
    "For this purpose, we will use DWave."
   ]
  },
  {
   "cell_type": "code",
   "execution_count": 1,
   "id": "97839e69",
   "metadata": {},
   "outputs": [],
   "source": [
    "# Load Data\n",
    "import geopandas as gpd\n",
    "\n",
    "gdf_edges = gpd.read_file(\"../data/gdf_edges_bi.geojson\") # Read bi-directional edges\n",
    "gdf_nodes = gpd.read_file(\"../data/gdf_nodes.geojson\") # Read nodes"
   ]
  },
  {
   "cell_type": "code",
   "execution_count": 2,
   "id": "f08a887e",
   "metadata": {},
   "outputs": [
    {
     "name": "stdout",
     "output_type": "stream",
     "text": [
      "   x  y energy num_oc.\n",
      "1  1  0   -1.0       1\n",
      "3  0  1   -1.0       1\n",
      "0  0  0    0.0       1\n",
      "2  1  1    0.0       1\n",
      "['BINARY', 4 rows, 4 samples, 2 variables]\n"
     ]
    }
   ],
   "source": [
    "from dimod import ExactSolver, BinaryQuadraticModel\n",
    "\n",
    "# Create a simple BQM (Binary Quadratic Model)\n",
    "bqm = BinaryQuadraticModel({'x': -1, 'y': -1}, {('x', 'y'): 2}, 0.0, 'BINARY')\n",
    "\n",
    "# Use local classical solver\n",
    "sampler = ExactSolver()\n",
    "sampleset = sampler.sample(bqm)\n",
    "\n",
    "print(sampleset)"
   ]
  },
  {
   "cell_type": "code",
   "execution_count": 4,
   "id": "712d5e68",
   "metadata": {},
   "outputs": [
    {
     "name": "stdout",
     "output_type": "stream",
     "text": [
      "Min-Cut Partition:\n",
      "  A: Source side\n",
      "  B: Source side\n",
      "  C: Sink side\n",
      "  D: Sink side\n",
      "\n",
      "Cut Edges:\n",
      "  A — C\n",
      "  B — D\n",
      "  B — C\n"
     ]
    }
   ],
   "source": [
    "from dwave.samplers import SimulatedAnnealingSampler\n",
    "\n",
    "# Define graph edges and weights (undirected)\n",
    "edges = {\n",
    "    ('A', 'B'): 1,\n",
    "    ('A', 'C'): 1,\n",
    "    ('B', 'D'): 1,\n",
    "    ('C', 'D'): 1,\n",
    "    ('B', 'C'): 2\n",
    "}\n",
    "\n",
    "# Fix node 'A' to be on the source side (value 0)\n",
    "# Fix node 'D' to be on the sink side (value 1)\n",
    "fixed = {'A': 0, 'D': 1}\n",
    "penalty = 10  # large enough to enforce constraints\n",
    "\n",
    "# Build the QUBO\n",
    "bqm = BinaryQuadraticModel('BINARY')\n",
    "\n",
    "for (u, v), w in edges.items():\n",
    "    bqm.add_interaction(u, v, 2 * w)\n",
    "    bqm.add_variable(u, -w)\n",
    "    bqm.add_variable(v, -w)\n",
    "\n",
    "# Add hard constraints\n",
    "for var, value in fixed.items():\n",
    "    if value == 0:\n",
    "        bqm.add_variable(var, penalty)\n",
    "    else:\n",
    "        bqm.add_variable(var, -penalty)\n",
    "\n",
    "# Solve using simulated annealing (local, no token needed)\n",
    "sampler = SimulatedAnnealingSampler()\n",
    "sampleset = sampler.sample(bqm, num_reads=100)\n",
    "best = sampleset.first.sample\n",
    "\n",
    "# Output\n",
    "print(\"Min-Cut Partition:\")\n",
    "for node, val in best.items():\n",
    "    side = \"Source side\" if val == 0 else \"Sink side\"\n",
    "    print(f\"  {node}: {side}\")\n",
    "\n",
    "# Show cut edges\n",
    "cut_edges = [(u, v) for (u, v), _ in edges.items() if best[u] != best[v]]\n",
    "print(\"\\nCut Edges:\")\n",
    "for u, v in cut_edges:\n",
    "    print(f\"  {u} — {v}\")\n"
   ]
  }
 ],
 "metadata": {
  "kernelspec": {
   "display_name": "base",
   "language": "python",
   "name": "python3"
  },
  "language_info": {
   "codemirror_mode": {
    "name": "ipython",
    "version": 3
   },
   "file_extension": ".py",
   "mimetype": "text/x-python",
   "name": "python",
   "nbconvert_exporter": "python",
   "pygments_lexer": "ipython3",
   "version": "3.12.2"
  }
 },
 "nbformat": 4,
 "nbformat_minor": 5
}
